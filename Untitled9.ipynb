{
  "nbformat": 4,
  "nbformat_minor": 0,
  "metadata": {
    "colab": {
      "provenance": [],
      "authorship_tag": "ABX9TyM25Og1YxNdxFjV6yQl6kMv",
      "include_colab_link": true
    },
    "kernelspec": {
      "name": "python3",
      "display_name": "Python 3"
    },
    "language_info": {
      "name": "python"
    }
  },
  "cells": [
    {
      "cell_type": "markdown",
      "metadata": {
        "id": "view-in-github",
        "colab_type": "text"
      },
      "source": [
        "<a href=\"https://colab.research.google.com/github/C-Lemia/aprendizado_supervisionado/blob/main/Untitled9.ipynb\" target=\"_parent\"><img src=\"https://colab.research.google.com/assets/colab-badge.svg\" alt=\"Open In Colab\"/></a>"
      ]
    },
    {
      "cell_type": "markdown",
      "source": [
        "# Resumindo de forma bem simples e prática, modelo iniciante , machine learning.\n",
        "\n",
        "Uma criança aprende a diferença entre um gato, um cachorro e um passaro atravéz do modelo supervisionado, ou seja, uma pessoa, geralmente um pai ou mãe, qaue já foram ensinados sobre a diferença dos animais, ajuda a criança a entender essa diferença.\n",
        "Modelo supervisionado > somos introduzidos, ao ser/objeto que pretendemos adquirir conhecimento, e destacamos suas caracteristas principais para aprendemos a escolher e a distinguir. Esse conjuntos de dados são rotulados para treinar algoritmos que classificam dados ou preveem resultados com precisão.\n",
        "\n"
      ],
      "metadata": {
        "id": "fRUNwBURVQ7S"
      }
    },
    {
      "cell_type": "markdown",
      "source": [
        "Queremos fazer a máquina diferenciar três animais: Gato, passaros e cachorros.\n",
        "\n",
        "Sabemos algumas caracteristicas básicas dos animais(features):\n",
        "\n",
        "Pelo longo: Gato e Cachorro.\n",
        "\n",
        "Pelo curto: Gato e Cachorro.\n",
        "\n",
        "Late: Cachorro.\n",
        "\n",
        "Mia: Gato\n",
        "\n",
        "Voa: Pássaro\n",
        "\n",
        "Tem pata: Gato, Cachorro e Passaro.\n",
        "\n",
        "Usaremos 0 para FALSE e 1 para TRUE"
      ],
      "metadata": {
        "id": "EKD45_iNXDX-"
      }
    },
    {
      "cell_type": "code",
      "source": [
        "# features\n",
        "\n",
        "passaro1 = [0,0,0,0,1,1]\n",
        "\n",
        "cachorro1 = [1,0,1,0,0,1]\n",
        "cachorro2 = [0,1,1,0,0,1]\n",
        "\n",
        "gato1 = [1,0,0,1,0,1]\n",
        "gato2= [0,1,0,1,0,1]\n",
        "\n",
        "# Classes:\n",
        "# 1 = Passaros; 2 = Cachorro e 3 = Gatos.\n",
        "\n",
        "dados = [passaro1, cachorro1, cachorro2, gato1, gato2]\n",
        "classe = [1,2,2,3,3]"
      ],
      "metadata": {
        "id": "K3zCfZ7SXBvG"
      },
      "execution_count": 2,
      "outputs": []
    },
    {
      "cell_type": "code",
      "source": [
        "# Usamos a biblioteca sklearn e Support Vector Machine (é um algoritmo de aprendizado de máquina supervisionado que pode ser usado para classificação).\n",
        "# Importamos dessa biblioteca o LinearSVC(modelo de aprendizado de máquina supervisionado que soluciona problemasde qual grupo se classifica aquela objeto).\n",
        "\n",
        "from sklearn.svm import LinearSVC\n",
        "\n",
        "# Criamos o modelo:\n",
        "\n",
        "model = LinearSVC()\n",
        "\n",
        "# Passamos o método fit com as características e saídas esperadas:\n",
        "\n",
        "model.fit(dados, classe)\n"
      ],
      "metadata": {
        "colab": {
          "base_uri": "https://localhost:8080/",
          "height": 75
        },
        "id": "fdA4xG1zZfOg",
        "outputId": "91439487-4d50-44e5-b52a-cde7d7038d0f"
      },
      "execution_count": 3,
      "outputs": [
        {
          "output_type": "execute_result",
          "data": {
            "text/plain": [
              "LinearSVC()"
            ],
            "text/html": [
              "<style>#sk-container-id-1 {color: black;background-color: white;}#sk-container-id-1 pre{padding: 0;}#sk-container-id-1 div.sk-toggleable {background-color: white;}#sk-container-id-1 label.sk-toggleable__label {cursor: pointer;display: block;width: 100%;margin-bottom: 0;padding: 0.3em;box-sizing: border-box;text-align: center;}#sk-container-id-1 label.sk-toggleable__label-arrow:before {content: \"▸\";float: left;margin-right: 0.25em;color: #696969;}#sk-container-id-1 label.sk-toggleable__label-arrow:hover:before {color: black;}#sk-container-id-1 div.sk-estimator:hover label.sk-toggleable__label-arrow:before {color: black;}#sk-container-id-1 div.sk-toggleable__content {max-height: 0;max-width: 0;overflow: hidden;text-align: left;background-color: #f0f8ff;}#sk-container-id-1 div.sk-toggleable__content pre {margin: 0.2em;color: black;border-radius: 0.25em;background-color: #f0f8ff;}#sk-container-id-1 input.sk-toggleable__control:checked~div.sk-toggleable__content {max-height: 200px;max-width: 100%;overflow: auto;}#sk-container-id-1 input.sk-toggleable__control:checked~label.sk-toggleable__label-arrow:before {content: \"▾\";}#sk-container-id-1 div.sk-estimator input.sk-toggleable__control:checked~label.sk-toggleable__label {background-color: #d4ebff;}#sk-container-id-1 div.sk-label input.sk-toggleable__control:checked~label.sk-toggleable__label {background-color: #d4ebff;}#sk-container-id-1 input.sk-hidden--visually {border: 0;clip: rect(1px 1px 1px 1px);clip: rect(1px, 1px, 1px, 1px);height: 1px;margin: -1px;overflow: hidden;padding: 0;position: absolute;width: 1px;}#sk-container-id-1 div.sk-estimator {font-family: monospace;background-color: #f0f8ff;border: 1px dotted black;border-radius: 0.25em;box-sizing: border-box;margin-bottom: 0.5em;}#sk-container-id-1 div.sk-estimator:hover {background-color: #d4ebff;}#sk-container-id-1 div.sk-parallel-item::after {content: \"\";width: 100%;border-bottom: 1px solid gray;flex-grow: 1;}#sk-container-id-1 div.sk-label:hover label.sk-toggleable__label {background-color: #d4ebff;}#sk-container-id-1 div.sk-serial::before {content: \"\";position: absolute;border-left: 1px solid gray;box-sizing: border-box;top: 0;bottom: 0;left: 50%;z-index: 0;}#sk-container-id-1 div.sk-serial {display: flex;flex-direction: column;align-items: center;background-color: white;padding-right: 0.2em;padding-left: 0.2em;position: relative;}#sk-container-id-1 div.sk-item {position: relative;z-index: 1;}#sk-container-id-1 div.sk-parallel {display: flex;align-items: stretch;justify-content: center;background-color: white;position: relative;}#sk-container-id-1 div.sk-item::before, #sk-container-id-1 div.sk-parallel-item::before {content: \"\";position: absolute;border-left: 1px solid gray;box-sizing: border-box;top: 0;bottom: 0;left: 50%;z-index: -1;}#sk-container-id-1 div.sk-parallel-item {display: flex;flex-direction: column;z-index: 1;position: relative;background-color: white;}#sk-container-id-1 div.sk-parallel-item:first-child::after {align-self: flex-end;width: 50%;}#sk-container-id-1 div.sk-parallel-item:last-child::after {align-self: flex-start;width: 50%;}#sk-container-id-1 div.sk-parallel-item:only-child::after {width: 0;}#sk-container-id-1 div.sk-dashed-wrapped {border: 1px dashed gray;margin: 0 0.4em 0.5em 0.4em;box-sizing: border-box;padding-bottom: 0.4em;background-color: white;}#sk-container-id-1 div.sk-label label {font-family: monospace;font-weight: bold;display: inline-block;line-height: 1.2em;}#sk-container-id-1 div.sk-label-container {text-align: center;}#sk-container-id-1 div.sk-container {/* jupyter's `normalize.less` sets `[hidden] { display: none; }` but bootstrap.min.css set `[hidden] { display: none !important; }` so we also need the `!important` here to be able to override the default hidden behavior on the sphinx rendered scikit-learn.org. See: https://github.com/scikit-learn/scikit-learn/issues/21755 */display: inline-block !important;position: relative;}#sk-container-id-1 div.sk-text-repr-fallback {display: none;}</style><div id=\"sk-container-id-1\" class=\"sk-top-container\"><div class=\"sk-text-repr-fallback\"><pre>LinearSVC()</pre><b>In a Jupyter environment, please rerun this cell to show the HTML representation or trust the notebook. <br />On GitHub, the HTML representation is unable to render, please try loading this page with nbviewer.org.</b></div><div class=\"sk-container\" hidden><div class=\"sk-item\"><div class=\"sk-estimator sk-toggleable\"><input class=\"sk-toggleable__control sk-hidden--visually\" id=\"sk-estimator-id-1\" type=\"checkbox\" checked><label for=\"sk-estimator-id-1\" class=\"sk-toggleable__label sk-toggleable__label-arrow\">LinearSVC</label><div class=\"sk-toggleable__content\"><pre>LinearSVC()</pre></div></div></div></div></div>"
            ]
          },
          "metadata": {},
          "execution_count": 3
        }
      ]
    },
    {
      "cell_type": "code",
      "source": [
        "# \"Mostramos\" um animal para máquina:\n",
        "\n",
        "animal1 = [1,0,0,1,0,1] # gato\n",
        "animal2 = [0,1,1,0,0,1] # cachorro\n",
        "animal3 = [0,0,0,0,1,1] # passaro\n",
        "teste = [animal1, animal2, animal3]\n",
        "previsto = model.predict(teste)\n",
        "previsto"
      ],
      "metadata": {
        "colab": {
          "base_uri": "https://localhost:8080/"
        },
        "id": "1ARSKjgAcPlL",
        "outputId": "0634a554-a4d5-45a6-f5e4-95fb18635b67"
      },
      "execution_count": 4,
      "outputs": [
        {
          "output_type": "execute_result",
          "data": {
            "text/plain": [
              "array([3, 2, 1])"
            ]
          },
          "metadata": {},
          "execution_count": 4
        }
      ]
    },
    {
      "cell_type": "code",
      "source": [
        "# Resultado correto:\n",
        "\n",
        "teste_resposta = [3,2,1] # animal1 : Gato, animal2 : Cachorro e animal3 : Passaro."
      ],
      "metadata": {
        "id": "3qETYh3Mdfqu"
      },
      "execution_count": 5,
      "outputs": []
    },
    {
      "cell_type": "code",
      "source": [
        "acertos = (previsto == teste_resposta).sum()\n",
        "acertos\n"
      ],
      "metadata": {
        "colab": {
          "base_uri": "https://localhost:8080/"
        },
        "id": "v2opHcxVeDQZ",
        "outputId": "13c0698b-5b6a-402f-d439-45014e811ce5"
      },
      "execution_count": 12,
      "outputs": [
        {
          "output_type": "execute_result",
          "data": {
            "text/plain": [
              "3"
            ]
          },
          "metadata": {},
          "execution_count": 12
        }
      ]
    },
    {
      "cell_type": "code",
      "source": [
        "# Como ficou a acurácia do modelo:\n",
        "# calcula a acurácia, ou seja,  proximidade de um resultado com o seu valor de referência real.\n",
        "\n",
        "from sklearn.metrics import accuracy_score\n",
        "taxa_acertos = accuracy_score(teste_resposta, previsto)\n",
        "print('Taxa de acerto:', taxa_acertos *100)\n",
        "\n",
        "\n"
      ],
      "metadata": {
        "colab": {
          "base_uri": "https://localhost:8080/"
        },
        "id": "fx9_uPojexpk",
        "outputId": "5889ea0e-73f7-4f4f-d301-beae3cc608c0"
      },
      "execution_count": 15,
      "outputs": [
        {
          "output_type": "stream",
          "name": "stdout",
          "text": [
            "Taxa de acerto: 100.0\n"
          ]
        }
      ]
    },
    {
      "cell_type": "code",
      "source": [],
      "metadata": {
        "id": "ieooJTcPelz1"
      },
      "execution_count": null,
      "outputs": []
    }
  ]
}